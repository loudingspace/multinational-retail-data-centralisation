{
 "cells": [
  {
   "cell_type": "markdown",
   "metadata": {},
   "source": [
    "TODO:\n",
    "\n",
    "\n",
    "Need to make sure the classes are actually working the way we want them to, especially in terms of OOP.\n",
    "\n",
    "Update your GitHub repository with the latest code changes from your local project. Start by staging your modifications and creating a commit. Then, push the changes to your GitHub repository.\n",
    "\n",
    "Additionally, document your progress by adding to your GitHub README file. You can refer to the relevant lesson in the prerequisites for this task for more information.\n",
    "\n",
    "At minimum, your README file should contain the following information:\n",
    "\n",
    "Project Title\n",
    "Table of Contents, if the README file is long\n",
    "A description of the project: what it does, the aim of the project, and what you learned\n",
    "Installation instructions\n",
    "Usage instructions\n",
    "File structure of the project\n",
    "License information\n",
    "You don't have to write all of this at once, but make sure to update your README file as you go along, so that you don't forget to add anything."
   ]
  },
  {
   "cell_type": "code",
   "execution_count": 1,
   "metadata": {},
   "outputs": [
    {
     "name": "stdout",
     "output_type": "stream",
     "text": [
      "Cleaning mode begun: \n",
      "1-- Checking for null or na values\n",
      "index            0\n",
      "first_name       0\n",
      "last_name        0\n",
      "date_of_birth    0\n",
      "company          0\n",
      "email_address    0\n",
      "address          0\n",
      "country          0\n",
      "country_code     0\n",
      "phone_number     0\n",
      "join_date        0\n",
      "user_uuid        0\n",
      "dtype: int64\n"
     ]
    },
    {
     "ename": "TypeError",
     "evalue": "'>' not supported between instances of 'str' and 'int'",
     "output_type": "error",
     "traceback": [
      "\u001b[0;31m---------------------------------------------------------------------------\u001b[0m",
      "\u001b[0;31mTypeError\u001b[0m                                 Traceback (most recent call last)",
      "\u001b[1;32m/Users/colin/Library/CloudStorage/Dropbox/aicore/projects/multinational/notebooks/task3.ipynb Cell 1\u001b[0m line \u001b[0;36m4\n\u001b[1;32m      <a href='vscode-notebook-cell:/Users/colin/Library/CloudStorage/Dropbox/aicore/projects/multinational/notebooks/task3.ipynb#W0sZmlsZQ%3D%3D?line=1'>2</a>\u001b[0m sys\u001b[39m.\u001b[39mpath\u001b[39m.\u001b[39mappend(\u001b[39m'\u001b[39m\u001b[39m../classes/\u001b[39m\u001b[39m'\u001b[39m)\n\u001b[1;32m      <a href='vscode-notebook-cell:/Users/colin/Library/CloudStorage/Dropbox/aicore/projects/multinational/notebooks/task3.ipynb#W0sZmlsZQ%3D%3D?line=2'>3</a>\u001b[0m \u001b[39mfrom\u001b[39;00m \u001b[39mdata_cleaning\u001b[39;00m \u001b[39mimport\u001b[39;00m DataCleaning\n\u001b[0;32m----> <a href='vscode-notebook-cell:/Users/colin/Library/CloudStorage/Dropbox/aicore/projects/multinational/notebooks/task3.ipynb#W0sZmlsZQ%3D%3D?line=3'>4</a>\u001b[0m \u001b[39mfrom\u001b[39;00m \u001b[39mdata_extraction\u001b[39;00m \u001b[39mimport\u001b[39;00m DataExtraction\n\u001b[1;32m      <a href='vscode-notebook-cell:/Users/colin/Library/CloudStorage/Dropbox/aicore/projects/multinational/notebooks/task3.ipynb#W0sZmlsZQ%3D%3D?line=4'>5</a>\u001b[0m \u001b[39mfrom\u001b[39;00m \u001b[39mdatabase_utils\u001b[39;00m \u001b[39mimport\u001b[39;00m DatabaseConnector\n\u001b[1;32m      <a href='vscode-notebook-cell:/Users/colin/Library/CloudStorage/Dropbox/aicore/projects/multinational/notebooks/task3.ipynb#W0sZmlsZQ%3D%3D?line=7'>8</a>\u001b[0m dc \u001b[39m=\u001b[39m DatabaseConnector()\n",
      "File \u001b[0;32m~/Library/CloudStorage/Dropbox/aicore/projects/multinational/notebooks/../classes/data_extraction.py:61\u001b[0m\n\u001b[1;32m     59\u001b[0m df \u001b[39m=\u001b[39m de\u001b[39m.\u001b[39mread_rds_table(dc\u001b[39m.\u001b[39minit_db_engine(), table_list[\u001b[39m1\u001b[39m])\n\u001b[1;32m     60\u001b[0m \u001b[39m# print(df.head(10))\u001b[39;00m\n\u001b[0;32m---> 61\u001b[0m clean\u001b[39m.\u001b[39;49mclean_user_data(df)\n",
      "File \u001b[0;32m~/Library/CloudStorage/Dropbox/aicore/projects/multinational/notebooks/../classes/data_cleaning.py:31\u001b[0m, in \u001b[0;36mDataCleaning.clean_user_data\u001b[0;34m(self, df)\u001b[0m\n\u001b[1;32m     27\u001b[0m \u001b[39mprint\u001b[39m(df\u001b[39m.\u001b[39misna()\u001b[39m.\u001b[39msum())\n\u001b[1;32m     29\u001b[0m \u001b[39m# check for dates\u001b[39;00m\n\u001b[1;32m     30\u001b[0m \u001b[39m# date_of_birth, join_date\u001b[39;00m\n\u001b[0;32m---> 31\u001b[0m \u001b[39mprint\u001b[39m(df\u001b[39m.\u001b[39mdate_of_birth[\u001b[39mlen\u001b[39m(df\u001b[39m.\u001b[39;49mdate_of_birth \u001b[39m>\u001b[39;49m \u001b[39m10\u001b[39;49m)])\n\u001b[1;32m     32\u001b[0m \u001b[39m# df.date_of_birth[~df.date_of_birth.str.contains(\u001b[39;00m\n\u001b[1;32m     33\u001b[0m \u001b[39m#     '(\\d{4})[-](\\d{2})[-](\\d{2})')].sum()\u001b[39;00m\n\u001b[1;32m     34\u001b[0m \u001b[39m# print('DateOfBirth\\n', df.date_of_birth)\u001b[39;00m\n\u001b[0;32m   (...)\u001b[0m\n\u001b[1;32m     43\u001b[0m \n\u001b[1;32m     44\u001b[0m \u001b[39m# check for incorrect types\u001b[39;00m\n\u001b[1;32m     45\u001b[0m \u001b[39mprint\u001b[39m(\u001b[39m'\u001b[39m\u001b[39m3 checking for data types\u001b[39m\u001b[39m'\u001b[39m)\n",
      "File \u001b[0;32m~/miniconda/lib/python3.11/site-packages/pandas/core/ops/common.py:76\u001b[0m, in \u001b[0;36m_unpack_zerodim_and_defer.<locals>.new_method\u001b[0;34m(self, other)\u001b[0m\n\u001b[1;32m     72\u001b[0m             \u001b[39mreturn\u001b[39;00m \u001b[39mNotImplemented\u001b[39m\n\u001b[1;32m     74\u001b[0m other \u001b[39m=\u001b[39m item_from_zerodim(other)\n\u001b[0;32m---> 76\u001b[0m \u001b[39mreturn\u001b[39;00m method(\u001b[39mself\u001b[39;49m, other)\n",
      "File \u001b[0;32m~/miniconda/lib/python3.11/site-packages/pandas/core/arraylike.py:56\u001b[0m, in \u001b[0;36mOpsMixin.__gt__\u001b[0;34m(self, other)\u001b[0m\n\u001b[1;32m     54\u001b[0m \u001b[39m@unpack_zerodim_and_defer\u001b[39m(\u001b[39m\"\u001b[39m\u001b[39m__gt__\u001b[39m\u001b[39m\"\u001b[39m)\n\u001b[1;32m     55\u001b[0m \u001b[39mdef\u001b[39;00m \u001b[39m__gt__\u001b[39m(\u001b[39mself\u001b[39m, other):\n\u001b[0;32m---> 56\u001b[0m     \u001b[39mreturn\u001b[39;00m \u001b[39mself\u001b[39;49m\u001b[39m.\u001b[39;49m_cmp_method(other, operator\u001b[39m.\u001b[39;49mgt)\n",
      "File \u001b[0;32m~/miniconda/lib/python3.11/site-packages/pandas/core/series.py:5799\u001b[0m, in \u001b[0;36mSeries._cmp_method\u001b[0;34m(self, other, op)\u001b[0m\n\u001b[1;32m   5796\u001b[0m lvalues \u001b[39m=\u001b[39m \u001b[39mself\u001b[39m\u001b[39m.\u001b[39m_values\n\u001b[1;32m   5797\u001b[0m rvalues \u001b[39m=\u001b[39m extract_array(other, extract_numpy\u001b[39m=\u001b[39m\u001b[39mTrue\u001b[39;00m, extract_range\u001b[39m=\u001b[39m\u001b[39mTrue\u001b[39;00m)\n\u001b[0;32m-> 5799\u001b[0m res_values \u001b[39m=\u001b[39m ops\u001b[39m.\u001b[39;49mcomparison_op(lvalues, rvalues, op)\n\u001b[1;32m   5801\u001b[0m \u001b[39mreturn\u001b[39;00m \u001b[39mself\u001b[39m\u001b[39m.\u001b[39m_construct_result(res_values, name\u001b[39m=\u001b[39mres_name)\n",
      "File \u001b[0;32m~/miniconda/lib/python3.11/site-packages/pandas/core/ops/array_ops.py:346\u001b[0m, in \u001b[0;36mcomparison_op\u001b[0;34m(left, right, op)\u001b[0m\n\u001b[1;32m    343\u001b[0m     \u001b[39mreturn\u001b[39;00m invalid_comparison(lvalues, rvalues, op)\n\u001b[1;32m    345\u001b[0m \u001b[39melif\u001b[39;00m lvalues\u001b[39m.\u001b[39mdtype \u001b[39m==\u001b[39m \u001b[39mobject\u001b[39m \u001b[39mor\u001b[39;00m \u001b[39misinstance\u001b[39m(rvalues, \u001b[39mstr\u001b[39m):\n\u001b[0;32m--> 346\u001b[0m     res_values \u001b[39m=\u001b[39m comp_method_OBJECT_ARRAY(op, lvalues, rvalues)\n\u001b[1;32m    348\u001b[0m \u001b[39melse\u001b[39;00m:\n\u001b[1;32m    349\u001b[0m     res_values \u001b[39m=\u001b[39m _na_arithmetic_op(lvalues, rvalues, op, is_cmp\u001b[39m=\u001b[39m\u001b[39mTrue\u001b[39;00m)\n",
      "File \u001b[0;32m~/miniconda/lib/python3.11/site-packages/pandas/core/ops/array_ops.py:131\u001b[0m, in \u001b[0;36mcomp_method_OBJECT_ARRAY\u001b[0;34m(op, x, y)\u001b[0m\n\u001b[1;32m    129\u001b[0m     result \u001b[39m=\u001b[39m libops\u001b[39m.\u001b[39mvec_compare(x\u001b[39m.\u001b[39mravel(), y\u001b[39m.\u001b[39mravel(), op)\n\u001b[1;32m    130\u001b[0m \u001b[39melse\u001b[39;00m:\n\u001b[0;32m--> 131\u001b[0m     result \u001b[39m=\u001b[39m libops\u001b[39m.\u001b[39;49mscalar_compare(x\u001b[39m.\u001b[39;49mravel(), y, op)\n\u001b[1;32m    132\u001b[0m \u001b[39mreturn\u001b[39;00m result\u001b[39m.\u001b[39mreshape(x\u001b[39m.\u001b[39mshape)\n",
      "File \u001b[0;32mops.pyx:107\u001b[0m, in \u001b[0;36mpandas._libs.ops.scalar_compare\u001b[0;34m()\u001b[0m\n",
      "\u001b[0;31mTypeError\u001b[0m: '>' not supported between instances of 'str' and 'int'"
     ]
    }
   ],
   "source": [
    "import sys\n",
    "sys.path.append('../classes/')\n",
    "from data_cleaning import DataCleaning\n",
    "from data_extraction import DataExtraction\n",
    "from database_utils import DatabaseConnector\n",
    "\n",
    "\n",
    "dc = DatabaseConnector()\n",
    "de = DataExtraction()\n",
    "clean = DataCleaning()\n",
    "\n",
    "# Use your list_db_tables method to get the name of the table containing user data.\n",
    "table_list = dc.list_db_tables()\n",
    "\n",
    "# Use the read_rds_table method to extract the table containing user data and return a pandas DataFrame.\n",
    "df = de.read_rds_table(dc.init_db_engine(), table_list[1])\n",
    "# print(df.head(10))\n",
    "clean.clean_user_data(df)\n"
   ]
  },
  {
   "cell_type": "code",
   "execution_count": 4,
   "metadata": {},
   "outputs": [
    {
     "data": {
      "text/plain": [
       "[0, 1, 2, 3, 4, 5, 6, 7, 8, 9, 10, 11, 12, 13, 14, 15, 16, 17, 18, 19]"
      ]
     },
     "execution_count": 4,
     "metadata": {},
     "output_type": "execute_result"
    }
   ],
   "source": [
    "new_index = [x for x in range (0, 20)]\n",
    "new_index"
   ]
  },
  {
   "cell_type": "code",
   "execution_count": 13,
   "metadata": {},
   "outputs": [
    {
     "name": "stdout",
     "output_type": "stream",
     "text": [
      "0\n"
     ]
    },
    {
     "data": {
      "text/html": [
       "<div>\n",
       "<style scoped>\n",
       "    .dataframe tbody tr th:only-of-type {\n",
       "        vertical-align: middle;\n",
       "    }\n",
       "\n",
       "    .dataframe tbody tr th {\n",
       "        vertical-align: top;\n",
       "    }\n",
       "\n",
       "    .dataframe thead th {\n",
       "        text-align: right;\n",
       "    }\n",
       "</style>\n",
       "<table border=\"1\" class=\"dataframe\">\n",
       "  <thead>\n",
       "    <tr style=\"text-align: right;\">\n",
       "      <th></th>\n",
       "      <th>address</th>\n",
       "      <th>longitude</th>\n",
       "      <th>lat</th>\n",
       "      <th>locality</th>\n",
       "      <th>store_code</th>\n",
       "      <th>staff_numbers</th>\n",
       "      <th>opening_date</th>\n",
       "      <th>store_type</th>\n",
       "      <th>latitude</th>\n",
       "      <th>country_code</th>\n",
       "      <th>continent</th>\n",
       "    </tr>\n",
       "  </thead>\n",
       "  <tbody>\n",
       "    <tr>\n",
       "      <th>0</th>\n",
       "      <td>Gotthilf-Rose-Straße 7/3\\n45457 Feuchtwangen, ...</td>\n",
       "      <td>50.64336</td>\n",
       "      <td>None</td>\n",
       "      <td>Bad Honnef</td>\n",
       "      <td>BA-B4AED588</td>\n",
       "      <td>36</td>\n",
       "      <td>2001-05-12</td>\n",
       "      <td>Local</td>\n",
       "      <td>7.2278</td>\n",
       "      <td>DE</td>\n",
       "      <td>eeEurope</td>\n",
       "    </tr>\n",
       "    <tr>\n",
       "      <th>1</th>\n",
       "      <td>N/A</td>\n",
       "      <td>N/A</td>\n",
       "      <td>N/A</td>\n",
       "      <td>N/A</td>\n",
       "      <td>WEB-1388012W</td>\n",
       "      <td>325</td>\n",
       "      <td>2010-06-12</td>\n",
       "      <td>Web Portal</td>\n",
       "      <td>None</td>\n",
       "      <td>GB</td>\n",
       "      <td>Europe</td>\n",
       "    </tr>\n",
       "  </tbody>\n",
       "</table>\n",
       "</div>"
      ],
      "text/plain": [
       "                                             address longitude   lat  \\\n",
       "0  Gotthilf-Rose-Straße 7/3\\n45457 Feuchtwangen, ...  50.64336  None   \n",
       "1                                                N/A       N/A   N/A   \n",
       "\n",
       "     locality    store_code staff_numbers opening_date  store_type latitude  \\\n",
       "0  Bad Honnef   BA-B4AED588            36   2001-05-12       Local   7.2278   \n",
       "1         N/A  WEB-1388012W           325   2010-06-12  Web Portal     None   \n",
       "\n",
       "  country_code continent  \n",
       "0           DE  eeEurope  \n",
       "1           GB    Europe  "
      ]
     },
     "execution_count": 13,
     "metadata": {},
     "output_type": "execute_result"
    }
   ],
   "source": [
    "import pandas as pd\n",
    "\n",
    "a = {'index': 450, 'address': 'Gotthilf-Rose-Straße 7/3\\n45457 Feuchtwangen, Bad Honnef', 'longitude': '50.64336', 'lat': None, 'locality': 'Bad Honnef', 'store_code': 'BA-B4AED588', 'staff_numbers': '36', 'opening_date': '2001-05-12', 'store_type': 'Local', 'latitude': '7.2278', 'country_code': 'DE', 'continent': 'eeEurope'}\n",
    "b = {'index': 0, 'address': 'N/A', 'longitude': 'N/A', 'lat': 'N/A', 'locality': 'N/A', 'store_code': 'WEB-1388012W', 'staff_numbers': '325', 'opening_date': '2010-06-12', 'store_type': 'Web Portal', 'latitude': None, 'country_code': 'GB', 'continent': 'Europe'}\n",
    "\n",
    "# df = pd.DataFrame.from_dict(a, orient=\"index\", columns=['address', 'longitude', 'lat', 'locality', 'store_code', 'staff_numbers', 'opening_date', 'store_type', 'latitude', 'country_code', 'continent'])\n",
    "\n",
    "\n",
    "print(index)\n",
    "a\n",
    "\n",
    "# create original dataframe\n",
    "index = a.pop('index')\n",
    "df = pd.DataFrame(a, index=[index])\n",
    "\n",
    "# add to dataframe\n",
    "index = b.pop('index')\n",
    "df = pd.concat( [df, pd.DataFrame(b, index=[index]) ], ignore_index=True )\n",
    "\n",
    "df\n",
    "\n"
   ]
  },
  {
   "cell_type": "code",
   "execution_count": 14,
   "metadata": {},
   "outputs": [
    {
     "name": "stdout",
     "output_type": "stream",
     "text": [
      "0\n",
      "1\n",
      "2\n",
      "3\n",
      "4\n",
      "5\n",
      "6\n",
      "7\n",
      "8\n",
      "9\n",
      "10\n",
      "11\n",
      "12\n",
      "13\n",
      "14\n",
      "15\n",
      "16\n",
      "17\n",
      "18\n",
      "19\n",
      "20\n",
      "21\n",
      "22\n",
      "23\n",
      "24\n",
      "25\n",
      "26\n",
      "27\n",
      "28\n",
      "29\n"
     ]
    }
   ],
   "source": [
    "for a in range(0,30):\n",
    "    print(a)"
   ]
  },
  {
   "cell_type": "code",
   "execution_count": 16,
   "metadata": {},
   "outputs": [
    {
     "data": {
      "text/plain": [
       "'10'"
      ]
     },
     "execution_count": 16,
     "metadata": {},
     "output_type": "execute_result"
    }
   ],
   "source": [
    "a = '10kg'\n",
    "a.split('kg')[0]"
   ]
  },
  {
   "cell_type": "code",
   "execution_count": 17,
   "metadata": {},
   "outputs": [
    {
     "data": {
      "text/plain": [
       "36"
      ]
     },
     "execution_count": 17,
     "metadata": {},
     "output_type": "execute_result"
    }
   ],
   "source": [
    "len('cfe701da-6493-4a7f-83cf-9aab1650f689')"
   ]
  },
  {
   "cell_type": "code",
   "execution_count": null,
   "metadata": {
    "vscode": {
     "languageId": "sql"
    }
   },
   "outputs": [],
   "source": [
    "-- assign types for the orders_table\n",
    "ALTER TABLE orders_table\n",
    "ALTER COLUMN date_uuid TYPE UUID USING date_uuid::UUID,\n",
    "    ALTER COLUMN user_uuid TYPE UUID USING user_uuid::UUID,\n",
    "    ALTER COLUMN card_number TYPE VARCHAR(19),\n",
    "    ALTER COLUMN store_code TYPE VARCHAR(12),\n",
    "    ALTER COLUMN product_code TYPE VARCHAR(11),\n",
    "    ALTER COLUMN product_quantity TYPE SMALLINT;\n",
    "-- assign types for dim_users\n",
    "ALTER TABLE dim_users\n",
    "ALTER COLUMN first_name TYPE VARCHAR(255),\n",
    "    ALTER COLUMN last_name TYPE VARCHAR(255),\n",
    "    ALTER COLUMN date_of_birth TYPE DATE,\n",
    "    ALTER COLUMN country_code TYPE VARCHAR(2),\n",
    "    ALTER COLUMN user_uuid TYPE UUID USING user_uuid::UUID,\n",
    "    ALTER COLUMN join_date TYPE DATE;\n",
    "-- assign types for dim_store_details\n",
    "ALTER TABLE dim_stores_details\n",
    "ALTER COLUMN longitude TYPE FLOAT USING longitude::FLOAT,\n",
    "    ALTER COLUMN locality TYPE VARCHAR(255),\n",
    "    ALTER COLUMN store_code TYPE VARCHAR(12),\n",
    "    ALTER COLUMN staff_numbers TYPE SMALLINT,\n",
    "    ALTER COLUMN opening_date TYPE DATE USING opening_date::DATE,\n",
    "    ALTER COLUMN store_type TYPE VARCHAR(255),\n",
    "    ALTER COLUMN store_type DROP NOT NULL,\n",
    "    ALTER COLUMN latitude TYPE FLOAT USING latitude::FLOAT,\n",
    "    ALTER COLUMN country_code TYPE VARCHAR(2),\n",
    "    ALTER COLUMN continent TYPE VARCHAR(255);\n",
    "-- change NULL values to N/A    \n",
    "UPDATE dim_stores_details\n",
    "SET address = 'N/A',\n",
    "    locality = 'N/A',\n",
    "    country_code = 'N/A'\n",
    "WHERE store_code ILIKE 'WEB-1388012W';\n",
    "-- create weight_class\n",
    "ALTER TABLE dim_products\n",
    "ADD weight_class VARCHAR(14);\n",
    "UPDATE dim_products\n",
    "SET weight_class = CASE\n",
    "        WHEN weight < 2 THEN 'Light'\n",
    "        WHEN weight >= 2\n",
    "        AND weight < 40 THEN 'Mid_Sized'\n",
    "        WHEN weight >= 40\n",
    "        AND weight < 140 THEN 'Heavy'\n",
    "        WHEN weight > 120 THEN 'Long'\n",
    "    END;\n",
    "-- do preparation to make column boolean, then change name to still_available\n",
    "UPDATE dim_products\n",
    "SET removed = REPLACE(removed, 'Still_avaliable', 'True');\n",
    "UPDATE dim_products\n",
    "SET removed = REPLACE(removed, 'Removed', 'False');\n",
    "ALTER TABLE dim_products\n",
    "    RENAME COLUMN \"removed\" TO still_available;\n",
    "-- assign types for dim_products \n",
    "ALTER TABLE dim_products\n",
    "ALTER COLUMN product_price TYPE FLOAT,\n",
    "    ALTER COLUMN weight TYPE FLOAT,\n",
    "    ALTER COLUMN \"EAN\" TYPE VARCHAR(17),\n",
    "    ALTER COLUMN product_code TYPE VARCHAR(11),\n",
    "    ALTER COLUMN date_added TYPE DATE USING date_added::DATE,\n",
    "    ALTER COLUMN uuid TYPE UUID USING uuid::UUID,\n",
    "    ALTER COLUMN still_available TYPE BOOL USING still_available::BOOL,\n",
    "    ALTER COLUMN weight_class TYPE VARCHAR(9);\n",
    "-- assign one type for date\n",
    "ALTER TABLE dim_date_times\n",
    "ALTER COLUMN date_uuid TYPE UUID USING date_uuid::UUID;\n",
    "-- assign types for dim_card_details\n",
    "ALTER TABLE dim_card_details\n",
    "ALTER COLUMN card_number TYPE VARCHAR(19),\n",
    "    ALTER COLUMN expiry_date TYPE DATE USING expiry_date::DATE,\n",
    "    ALTER COLUMN date_payment_confirmed TYPE DATE USING date_payment_confirmed::DATE;\n",
    "-- set primary keys for all the tables that are referenced in orders_table\n",
    "ALTER TABLE dim_date_times\n",
    "ADD PRIMARY KEY (date_uuid);\n",
    "ALTER TABLE dim_users\n",
    "ADD PRIMARY KEY (user_uuid);\n",
    "ALTER TABLE dim_card_details\n",
    "ADD PRIMARY KEY (card_number);\n",
    "ALTER TABLE dim_stores_details\n",
    "ADD PRIMARY KEY (store_code);\n",
    "ALTER TABLE dim_products\n",
    "ADD PRIMARY KEY (product_code);\n",
    "-- set foreign keys orders table to reference our newly created primary keys\n",
    "ALTER TABLE orders_table\n",
    "ADD CONSTRAINT fk_orders_table_dim_date_times FOREIGN KEY (date_uuid) REFERENCES dim_date_times(date_uuid);\n",
    "ALTER TABLE orders_table\n",
    "ADD CONSTRAINT fk_orders_table_dim_users FOREIGN KEY (user_uuid) REFERENCES dim_users(user_uuid);\n",
    "ALTER TABLE orders_table\n",
    "ADD CONSTRAINT fk_orders_table_dim_card_details FOREIGN KEY (card_number) REFERENCES dim_card_details(card_number);\n",
    "ALTER TABLE orders_table\n",
    "ADD CONSTRAINT fk_orders_table_dim_stores_details FOREIGN KEY (store_code) REFERENCES dim_stores_details(store_code);\n",
    "ALTER TABLE orders_table\n",
    "ADD CONSTRAINT fk_orders_table_dim_products FOREIGN KEY (product_code) REFERENCES dim_products(product_code);"
   ]
  }
 ],
 "metadata": {
  "kernelspec": {
   "display_name": "Python 3",
   "language": "python",
   "name": "python3"
  },
  "language_info": {
   "codemirror_mode": {
    "name": "ipython",
    "version": 3
   },
   "file_extension": ".py",
   "mimetype": "text/x-python",
   "name": "python",
   "nbconvert_exporter": "python",
   "pygments_lexer": "ipython3",
   "version": "3.11.4"
  }
 },
 "nbformat": 4,
 "nbformat_minor": 2
}
