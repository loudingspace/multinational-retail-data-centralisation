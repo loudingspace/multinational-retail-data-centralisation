{
 "cells": [
  {
   "cell_type": "markdown",
   "metadata": {},
   "source": [
    "# Milestone 4\n",
    "\n",
    "Your boss is excited that you now have the schema for the database and all the sales data is in one location.\n",
    "Since you've done such a great job they would like you to get some up-to-date metrics from the data.\n",
    "The business can then start making more data-driven decisions and get a better understanding of its sales.\n",
    "In this milestone, you will be tasked with answering business questions and extracting the data from the database using SQL."
   ]
  },
  {
   "cell_type": "markdown",
   "metadata": {},
   "source": [
    "1. How many stores does the business have and in which countries?\n",
    "\n",
    "The Operations team would like to know which countries we currently operate in and which country now has the most stores. Perform a query on the database to get the information, it should return the following information:\n",
    "\n",
    "    +----------+-----------------+\n",
    "    | country  | total_no_stores |\n",
    "    +----------+-----------------+\n",
    "    | GB       |             265 |\n",
    "    | DE       |             141 |\n",
    "    | US       |              34 |\n",
    "    +----------+-----------------+\n",
    "Note: DE is short for Deutschland(Germany)"
   ]
  },
  {
   "cell_type": "markdown",
   "metadata": {},
   "source": [
    "The information for this is in the dim_stores_details table. We want to SELECT country and COUNT the numbers of stores, grouped by country."
   ]
  },
  {
   "cell_type": "code",
   "execution_count": null,
   "metadata": {
    "vscode": {
     "languageId": "sql"
    }
   },
   "outputs": [],
   "source": [
    "SELECT \n",
    "    country_code AS country, COUNT(country_code) AS total_no_stores\n",
    "FROM \n",
    "    dim_stores_details \n",
    "GROUP BY \n",
    "    country\n",
    "ORDER BY total_no_stores DESC\n",
    "LIMIT 3;"
   ]
  },
  {
   "cell_type": "markdown",
   "metadata": {},
   "source": [
    "I have one more store, in the GB. This must be the webstore, where there was a GB value for the webstore. I have now amended this."
   ]
  },
  {
   "cell_type": "markdown",
   "metadata": {},
   "source": [
    "2. Which locations have the most stores?\n",
    "\n",
    "The business stakeholders would like to know which locations currently have the most stores.\n",
    "\n",
    "They would like to close some stores before opening more in other locations.\n",
    "\n",
    "Find out which locations have the most stores currently. The query should return the following:"
   ]
  },
  {
   "cell_type": "code",
   "execution_count": null,
   "metadata": {
    "vscode": {
     "languageId": "sql"
    }
   },
   "outputs": [],
   "source": [
    "SELECT \n",
    "    locality, \n",
    "    COUNT(locality) AS total_no_stores\n",
    "FROM\n",
    "    dim_stores_details\n",
    "GROUP BY\n",
    "    locality\n",
    "ORDER BY \n",
    "    total_no_stores DESC\n",
    "LIMIT 7;"
   ]
  },
  {
   "cell_type": "markdown",
   "metadata": {},
   "source": [
    "3. Which months produce the average highest cost of sales typically?\n",
    "\n",
    "Query the database to find out which months typically have the most sales your query should return the following information:\n",
    "\n",
    "    +-------------+-------+\n",
    "    | total_sales | month |\n",
    "    +-------------+-------+\n",
    "    |   673295.68 |     8 |\n",
    "    |   668041.45 |     1 |\n",
    "    |   657335.84 |    10 |\n",
    "    |   650321.43 |     5 |\n",
    "    |   645741.70 |     7 |\n",
    "    |   645463.00 |     3 |\n",
    "    +-------------+-------+"
   ]
  },
  {
   "cell_type": "markdown",
   "metadata": {},
   "source": [
    "\n",
    "We need to join date_uuid on orders with date_uuid on dim_date_times to get the dates, and then we need to join product code on orders with product code in dim_products to get the product_price, which we then need to multiply by the product quantity to get the individual amoutn of the transaction, and then sum this per month.\n",
    "\n",
    "We will use EXTRACT('MONTH' FROM published_date);"
   ]
  },
  {
   "cell_type": "code",
   "execution_count": null,
   "metadata": {
    "vscode": {
     "languageId": "sql"
    }
   },
   "outputs": [],
   "source": [
    "--SELECT EXTRACT('MONTH' FROM date) AS month from dim_date_times;\n",
    "\n",
    "SELECT \n",
    "    ROUND(CAST(SUM(product_price * product_quantity) AS numeric), 2) AS total_sales, \n",
    "    --SUM(product_price * product_quantity) AS total_sales, \n",
    "    EXTRACT('MONTH' FROM date) AS month\n",
    "FROM\n",
    "    orders_table \n",
    "    INNER JOIN dim_date_times ON orders_table.date_uuid = dim_date_times.date_uuid\n",
    "    INNER JOIN dim_products ON orders_table.product_code = dim_products.product_code\n",
    " GROUP BY EXTRACT('MONTH' FROM date)\n",
    " ORDER BY total_sales DESC\n",
    " LIMIT 6;"
   ]
  },
  {
   "cell_type": "markdown",
   "metadata": {},
   "source": [
    "4. How many sales are coming from online?\n",
    "\n",
    "The company is looking to increase its online sales.\n",
    "\n",
    "They want to know how many sales are happening online vs offline.\n",
    "\n",
    "Calculate how many products were sold and the amount of sales made for online and offline purchases.\n",
    "\n",
    "You should get the following information:\n",
    "\n",
    "    +------------------+-------------------------+----------+\n",
    "    | numbers_of_sales | product_quantity_count  | location |\n",
    "    +------------------+-------------------------+----------+\n",
    "    |            26957 |                  107739 | Web      |\n",
    "    |            93166 |                  374047 | Offline  |\n",
    "    +------------------+-------------------------+----------+\n",
    "\n",
    "    Web is any transaction where the store_code begins with WEB. \n",
    "    A \"sale\" is an entryin the orders table. So we count the date_uuid as this is the only unique value in this table, i think. We then also sum the product quantity. Then we need the \"location\" from the stores info, so we need to do an inner join on the dim_stores_details table."
   ]
  },
  {
   "cell_type": "code",
   "execution_count": null,
   "metadata": {
    "vscode": {
     "languageId": "sql"
    }
   },
   "outputs": [],
   "source": [
    "SELECT COUNT(date_uuid) AS number_of_sales, SUM(product_quantity) AS product_quantity_count,\n",
    "\tCASE\n",
    "\t\tWHEN store_code ILIKE 'WEB%' THEN 'Web'\n",
    "\t\tELSE 'Offline'\n",
    "\tEND location\n",
    "FROM orders_table  -- INNER JOIN orders_table ON dim_stores_details.store_code = orders_table.store_code;\n",
    "GROUP BY location\n",
    "ORDER BY number_of_sales; -- number_of_sales, product_quantity_count, location;"
   ]
  },
  {
   "cell_type": "markdown",
   "metadata": {},
   "source": [
    "\n",
    "5. What percentage of sales comes through each type of store?\n",
    "\n",
    "The sales team wants to know which of the different store types is generated the most revenue so they know where to focus.\n",
    "\n",
    "Find out the total and percentage of sales coming from each of the different store types.\n",
    "\n",
    "The query should return:\n",
    "\n",
    "    +-------------+-------------+---------------------+\n",
    "    | store_type  | total_sales | percentage_total(%) |\n",
    "    +-------------+-------------+---------------------+\n",
    "    | Local       |  3440896.52 |               44.87 |\n",
    "    | Web portal  |  1726547.05 |               22.44 |\n",
    "    | Super Store |  1224293.65 |               15.63 |\n",
    "    | Mall Kiosk  |   698791.61 |                8.96 |\n",
    "    | Outlet      |   631804.81 |                8.10 |\n",
    "    +-------------+-------------+---------------------+\n",
    "\n",
    "So, store_type is in dim_stores_details, and total sales will be in orders_table and as product quantity * product_price in dim_products.\n",
    "\n",
    "There is a discrepancy with the percentage figures, which is odd as the percentages I have appear to be correct percentages according to the figures as a proportion of the total.\n"
   ]
  },
  {
   "cell_type": "code",
   "execution_count": null,
   "metadata": {
    "vscode": {
     "languageId": "sql"
    }
   },
   "outputs": [],
   "source": [
    "SELECT \n",
    "    store_type, \n",
    "    ROUND(SUM(product_quantity::numeric * product_price::numeric), 2) AS total_sales, -- trying a different way to cast to get around the annoying CAST with brackets. Either way, casting appears to be necessary for ROUND to work\n",
    "    ROUND(SUM(product_quantity::numeric * product_price::numeric) / (\n",
    "        SELECT \n",
    "            SUM(product_quantity * product_price)\n",
    "        FROM \n",
    "            orders_table\n",
    "        INNER JOIN dim_products ON orders_table.product_code = dim_products.product_code\n",
    "    )::numeric * 100, 2) AS \"percentage_total(%)\"\n",
    "FROM \n",
    "    orders_table\n",
    "INNER JOIN dim_stores_details ON orders_table.store_code = dim_stores_details.store_code \n",
    "INNER JOIN dim_products ON orders_table.product_code = dim_products.product_code\n",
    "GROUP BY store_type\n",
    "ORDER BY total_sales DESC;"
   ]
  },
  {
   "cell_type": "markdown",
   "metadata": {},
   "source": [
    "6. Which month in each year produced the highest cost of sales?\n",
    "\n",
    "The company stakeholders want assurances that the company has been doing well recently.\n",
    "\n",
    "Find which months in which years have had the most sales historically.\n",
    "\n",
    "The query should return the following information:\n",
    "\n",
    "    +-------------+------+-------+\n",
    "    | total_sales | year | month |\n",
    "    +-------------+------+-------+\n",
    "    |    27936.77 | 1994 |     3 |\n",
    "    |    27356.14 | 2019 |     1 |\n",
    "    |    27091.67 | 2009 |     8 |\n",
    "    |    26679.98 | 1997 |    11 |\n",
    "    |    26310.97 | 2018 |    12 |\n",
    "    |    26277.72 | 2019 |     8 |\n",
    "    |    26236.67 | 2017 |     9 |\n",
    "    |    25798.12 | 2010 |     5 |\n",
    "    |    25648.29 | 1996 |     8 |\n",
    "    |    25614.54 | 2000 |     1 |\n",
    "    +-------------+------+-------+"
   ]
  },
  {
   "cell_type": "code",
   "execution_count": null,
   "metadata": {
    "vscode": {
     "languageId": "sql"
    }
   },
   "outputs": [],
   "source": [
    "-- total sales is SUM of product_price from dim_products and product_quantity\n",
    "-- we get year and month by using extract from the date column of dim_dates_times\n",
    "\n",
    "SELECT \n",
    "    ROUND(SUM(product_price::numeric * product_quantity::numeric), 2) AS total_sales,\n",
    "    EXTRACT('YEAR' FROM date) AS year,\n",
    "    EXTRACT('MONTH' FROM date) AS month\n",
    "FROM    \n",
    "    dim_date_times \n",
    "    INNER JOIN orders_table ON orders_table.date_uuid = dim_date_times.date_uuid\n",
    "    INNER JOIN dim_products ON orders_table.product_code = dim_products.product_code\n",
    "GROUP BY EXTRACT('YEAR' FROM date), EXTRACT('MONTH' FROM date)\n",
    "ORDER BY total_sales DESC\n",
    "LIMIT 10;"
   ]
  },
  {
   "cell_type": "markdown",
   "metadata": {},
   "source": [
    "7. What is our staff headcount?\n",
    "\n",
    "The operations team would like to know the overall staff numbers in each location around the world. Perform a query to determine the staff numbers in each of the countries the company sells in.\n",
    "\n",
    "The query should return the values:\n",
    "\n",
    "    +---------------------+--------------+\n",
    "    | total_staff_numbers | country_code |\n",
    "    +---------------------+--------------+\n",
    "    |               13307 | GB           |\n",
    "    |                6123 | DE           |\n",
    "    |                1384 | US           |\n",
    "    +---------------------+--------------+\n",
    "\n",
    "We need to sum the staff_numbers from dim_store_details, grouping by country_code"
   ]
  },
  {
   "cell_type": "code",
   "execution_count": null,
   "metadata": {
    "vscode": {
     "languageId": "sql"
    }
   },
   "outputs": [],
   "source": [
    "-- SELECT \n",
    "--     SUM(staff_numbers),\n",
    "--     country_code\n",
    "-- FROM dim_stores_details\n",
    "-- GROUP BY country_code;"
   ]
  },
  {
   "cell_type": "code",
   "execution_count": null,
   "metadata": {
    "vscode": {
     "languageId": "sql"
    }
   },
   "outputs": [],
   "source": [
    "WITH cte AS (\n",
    "    UPDATE dim_stores_details\n",
    "    SET country_code = REPLACE(country_code, 'N/A', 'GB')\n",
    "    RETURNING *\n",
    ")\n",
    "SELECT \n",
    "    SUM(staff_numbers) AS total_staff_numbers,\n",
    "    country_code\n",
    "FROM cte\n",
    "GROUP BY country_code\n",
    "ORDER BY total_staff_numbers DESC;"
   ]
  },
  {
   "cell_type": "markdown",
   "metadata": {},
   "source": [
    "8. Which German store type is selling the most?\n",
    "\n",
    "The sales team is looking to expand their territory in Germany. Determine which type of store is generating the most sales in Germany.\n",
    "\n",
    "The query will return:\n",
    "\n",
    "    +--------------+-------------+--------------+\n",
    "    | total_sales  | store_type  | country_code |\n",
    "    +--------------+-------------+--------------+\n",
    "    |   198373.57  | Outlet      | DE           |\n",
    "    |   247634.20  | Mall Kiosk  | DE           |\n",
    "    |   384625.03  | Super Store | DE           |\n",
    "    |  1109909.59  | Local       | DE           |\n",
    "    +--------------+-------------+--------------+\n",
    "\n",
    "So we need to join dim_stores_details, orders_table and dim_products\n",
    "\n"
   ]
  },
  {
   "cell_type": "code",
   "execution_count": null,
   "metadata": {
    "vscode": {
     "languageId": "sql"
    }
   },
   "outputs": [],
   "source": [
    "SELECT \n",
    "    ROUND(SUM(product_price * product_quantity)::numeric, 2) AS total_sales, -- only need to cast output\n",
    "    store_type,\n",
    "    country_code\n",
    "FROM\n",
    "    orders_table \n",
    "    INNER JOIN dim_stores_details ON orders_table.store_code = dim_stores_details.store_code\n",
    "    INNER JOIN dim_products ON orders_table.product_code = dim_products.product_code\n",
    "WHERE \n",
    "    country_code LIKE 'DE'\n",
    "GROUP BY\n",
    "    store_type, country_code\n",
    "ORDER BY\n",
    "    total_sales;"
   ]
  },
  {
   "cell_type": "markdown",
   "metadata": {},
   "source": [
    "9. How quickly is the company making sales?\n",
    "\n",
    "Sales would like the get an accurate metric for how quickly the company is making sales.\n",
    "\n",
    "Determine the average time taken between each sale grouped by year, the query should return the following information:\n",
    "\n",
    "    +------+-------------------------------------------------------+\n",
    "    | year |                           actual_time_taken           |\n",
    "    +------+-------------------------------------------------------+\n",
    "    | 2013 | \"hours\": 2, \"minutes\": 17, \"seconds\": 12, \"millise... |\n",
    "    | 1993 | \"hours\": 2, \"minutes\": 15, \"seconds\": 35, \"millise... |\n",
    "    | 2002 | \"hours\": 2, \"minutes\": 13, \"seconds\": 50, \"millise... | \n",
    "    | 2022 | \"hours\": 2, \"minutes\": 13, \"seconds\": 6,  \"millise... |\n",
    "    | 2008 | \"hours\": 2, \"minutes\": 13, \"seconds\": 2,  \"millise... |\n",
    "    +------+-------------------------------------------------------+\n",
    " \n",
    "Hint: You will need the SQL command LEAD."
   ]
  },
  {
   "cell_type": "markdown",
   "metadata": {},
   "source": [
    "For this I am going to have to reinstigate the time stamp. I cannot do this because we now have PK and FKs in the constraints, so for the purposes of getting something to work I have uploaded a new table, dim_date_times2. In the final version of this we need to replace this back."
   ]
  },
  {
   "cell_type": "markdown",
   "metadata": {},
   "source": [
    "So we can list all the dates per transaction by joining the dim_date_times2 table with the orders table. Then we need to calculate the difference between each transaction somehow. And then order by year, which we will need to extract. \n"
   ]
  },
  {
   "cell_type": "code",
   "execution_count": null,
   "metadata": {
    "vscode": {
     "languageId": "sql"
    }
   },
   "outputs": [],
   "source": [
    "\n",
    "SELECT year, AVG(actual_time_taken) AS actual_time_taken\n",
    "FROM (\n",
    "    SELECT EXTRACT('YEAR' FROM date) AS year, \n",
    "        SUM(difference_between_timestamps) AS actual_time_taken-- need to divide this by the total per year  \n",
    "        FROM (\n",
    "        SELECT \n",
    "            EXTRACT('YEAR' FROM date) AS year, \n",
    "            date, \n",
    "            date- LAG(date) OVER (ORDER BY date) AS difference_between_timestamps\n",
    "        FROM dim_date_times\n",
    "        ORDER BY date\n",
    "    ) \n",
    "    GROUP BY year, date\n",
    "    ORDER BY year\n",
    ")\n",
    "GROUP BY year\n",
    "ORDER BY actual_time_taken DESC\n",
    "LIMIT 5;\n",
    "\n",
    "-- TODO: can this be simplified? And why are the times slightly off?"
   ]
  },
  {
   "cell_type": "markdown",
   "metadata": {},
   "source": [
    "Results are mostly correct, although a few milliseconds off."
   ]
  }
 ],
 "metadata": {
  "language_info": {
   "name": "python"
  }
 },
 "nbformat": 4,
 "nbformat_minor": 2
}
