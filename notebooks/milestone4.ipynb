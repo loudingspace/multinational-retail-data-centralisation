{
 "cells": [
  {
   "cell_type": "markdown",
   "metadata": {},
   "source": [
    "# Milestone 4\n",
    "\n",
    "Your boss is excited that you now have the schema for the database and all the sales data is in one location.\n",
    "Since you've done such a great job they would like you to get some up-to-date metrics from the data.\n",
    "The business can then start making more data-driven decisions and get a better understanding of its sales.\n",
    "In this milestone, you will be tasked with answering business questions and extracting the data from the database using SQL."
   ]
  },
  {
   "cell_type": "markdown",
   "metadata": {},
   "source": [
    "1. How many stores dpoes the business have and in which countries?\n",
    "\n",
    "The Operations team would like to know which countries we currently operate in and which country now has the most stores. Perform a query on the database to get the information, it should return the following information:\n",
    "\n",
    "+----------+-----------------+\n",
    "| country  | total_no_stores |\n",
    "+----------+-----------------+\n",
    "| GB       |             265 |\n",
    "| DE       |             141 |\n",
    "| US       |              34 |\n",
    "+----------+-----------------+\n",
    "Note: DE is short for Deutschland(Germany)"
   ]
  },
  {
   "cell_type": "markdown",
   "metadata": {},
   "source": [
    "The information for this is in the dim_stores_details table. We want to SELECT country and COUNT the numbers of stores, grouped by country."
   ]
  },
  {
   "cell_type": "code",
   "execution_count": null,
   "metadata": {
    "vscode": {
     "languageId": "sql"
    }
   },
   "outputs": [],
   "source": [
    "SELECT \n",
    "    country_code AS country, COUNT(country_code) AS total_no_stores\n",
    "FROM \n",
    "    dim_stores_details \n",
    "GROUP BY \n",
    "    country\n",
    "ORDER BY total_no_stores DESC;"
   ]
  },
  {
   "cell_type": "markdown",
   "metadata": {},
   "source": [
    "I have one more store, in the GB. This must be the webstore, where there was a GB value for the webstore. I have now amended this."
   ]
  },
  {
   "cell_type": "markdown",
   "metadata": {},
   "source": [
    "2. Which locations have the most stores?\n",
    "\n",
    "The business stakeholders would like to know which locations currently have the most stores.\n",
    "\n",
    "They would like to close some stores before opening more in other locations.\n",
    "\n",
    "Find out which locations have the most stores currently. The query should return the following:"
   ]
  },
  {
   "cell_type": "code",
   "execution_count": null,
   "metadata": {
    "vscode": {
     "languageId": "sql"
    }
   },
   "outputs": [],
   "source": [
    "SELECT \n",
    "    locality, \n",
    "    COUNT(locality) AS total_no_stores\n",
    "FROM\n",
    "    dim_stores_details\n",
    "GROUP BY\n",
    "    locality\n",
    "ORDER BY \n",
    "    total_no_stores DESC\n",
    "LIMIT 7;"
   ]
  },
  {
   "cell_type": "markdown",
   "metadata": {},
   "source": [
    "3. Which months produce the average highest cost of sales typically?\n",
    "\n",
    "Query the database to find out which months typically have the most sales your query should return the following information:\n",
    "\n",
    "    +-------------+-------+\n",
    "    | total_sales | month |\n",
    "    +-------------+-------+\n",
    "    |   673295.68 |     8 |\n",
    "    |   668041.45 |     1 |\n",
    "    |   657335.84 |    10 |\n",
    "    |   650321.43 |     5 |\n",
    "    |   645741.70 |     7 |\n",
    "    |   645463.00 |     3 |\n",
    "    +-------------+-------+"
   ]
  },
  {
   "cell_type": "markdown",
   "metadata": {},
   "source": [
    "I think I'm going to have to go back and not amalgamate my dates - or I need to extract the month as a number.\n",
    "\n",
    "We need to join date_uuid on orders with date_uuid on dim_date_times to get the dates, and then we need to join product code on orders with product code in dim_products to get the product_price, which we then need to multiply by the product quantity to get the individual amoutn of the transaction, and then sum this per month.\n",
    "\n",
    "https://www.commandprompt.com/education/how-to-group-by-month-in-postgresql/ MONTH() doesn't appear in postgres. EXTRACT('MONTH' FROM published_date);"
   ]
  },
  {
   "cell_type": "code",
   "execution_count": null,
   "metadata": {
    "vscode": {
     "languageId": "sql"
    }
   },
   "outputs": [],
   "source": [
    "--SELECT EXTRACT('MONTH' FROM date) AS month from dim_date_times;\n",
    "\n",
    "SELECT \n",
    "    ROUND(CAST(SUM(product_price * product_quantity) AS numeric), 2) AS total_sales, \n",
    "    --SUM(product_price * product_quantity) AS total_sales, \n",
    "    EXTRACT('MONTH' FROM date) AS month\n",
    "FROM\n",
    "    orders_table \n",
    "    INNER JOIN dim_date_times ON orders_table.date_uuid = dim_date_times.date_uuid\n",
    "    INNER JOIN dim_products ON orders_table.product_code = dim_products.product_code\n",
    " GROUP BY EXTRACT('MONTH' FROM date)\n",
    " ORDER BY total_sales DESC\n",
    " LIMIT 6;"
   ]
  },
  {
   "cell_type": "markdown",
   "metadata": {},
   "source": [
    "4. How many sales are coming from online?\n",
    "\n",
    "The company is looking to increase its online sales.\n",
    "\n",
    "They want to know how many sales are happening online vs offline.\n",
    "\n",
    "Calculate how many products were sold and the amount of sales made for online and offline purchases.\n",
    "\n",
    "You should get the following information:\n",
    "\n",
    "    +------------------+-------------------------+----------+\n",
    "    | numbers_of_sales | product_quantity_count  | location |\n",
    "    +------------------+-------------------------+----------+\n",
    "    |            26957 |                  107739 | Web      |\n",
    "    |            93166 |                  374047 | Offline  |\n",
    "    +------------------+-------------------------+----------+\n",
    "\n",
    "    Web is any transaction where the store_code begins with WEB. \n",
    "    A \"sale\" is an entryin the orders table. So we count the date_uuid as this is the only unique value in this table, i think. We then also sum the product quantity. Then we need the \"location\" from the stores info, so we need to do an inner join on the dim_stores_details table."
   ]
  },
  {
   "cell_type": "code",
   "execution_count": null,
   "metadata": {
    "vscode": {
     "languageId": "sql"
    }
   },
   "outputs": [],
   "source": [
    "SELECT COUNT(date_uuid) AS number_of_sales, SUM(product_quantity) AS product_quantity_count,\n",
    "\tCASE\n",
    "\t\tWHEN store_code ILIKE 'WEB%' THEN 'Web'\n",
    "\t\tELSE 'Offline'\n",
    "\tEND location\n",
    "FROM orders_table  -- INNER JOIN orders_table ON dim_stores_details.store_code = orders_table.store_code;\n",
    "GROUP BY location\n",
    "ORDER BY number_of_sales; -- number_of_sales, product_quantity_count, location;"
   ]
  },
  {
   "cell_type": "markdown",
   "metadata": {},
   "source": [
    "\n",
    "5. What percentage of sales comes through each type of store?\n",
    "\n",
    "The sales team wants to know which of the different store types is generated the most revenue so they know where to focus.\n",
    "\n",
    "Find out the total and percentage of sales coming from each of the different store types.\n",
    "\n",
    "The query should return:\n",
    "\n",
    "+-------------+-------------+---------------------+\n",
    "| store_type  | total_sales | percentage_total(%) |\n",
    "+-------------+-------------+---------------------+\n",
    "| Local       |  3440896.52 |               44.87 |\n",
    "| Web portal  |  1726547.05 |               22.44 |\n",
    "| Super Store |  1224293.65 |               15.63 |\n",
    "| Mall Kiosk  |   698791.61 |                8.96 |\n",
    "| Outlet      |   631804.81 |                8.10 |\n",
    "+-------------+-------------+---------------------+\n",
    "\n",
    "So, store_type is in dim_stores_details, and total sales will be in orders_table and as product quantity * product_price in dim_products.\n",
    "\n",
    "There is a discrepancy with the percentage figures, which is odd as the percentages I have appear to be correct percentages according to the figures as a proportion of the total.\n"
   ]
  },
  {
   "cell_type": "code",
   "execution_count": null,
   "metadata": {
    "vscode": {
     "languageId": "sql"
    }
   },
   "outputs": [],
   "source": [
    "SELECT \n",
    "    store_type, \n",
    "    ROUND(SUM(product_quantity::numeric * product_price::numeric), 2) AS total_sales, -- trying a different way to cast to get around the annoying CAST with brackets. Either way, casting appears to be necessary for ROUND to work\n",
    "    ROUND(SUM(product_quantity::numeric * product_price::numeric) / (\n",
    "        SELECT \n",
    "            SUM(product_quantity * product_price)\n",
    "        FROM \n",
    "            orders_table\n",
    "        INNER JOIN dim_products ON orders_table.product_code = dim_products.product_code\n",
    "    )::numeric * 100, 2) AS \"percentage_total(%)\"\n",
    "FROM \n",
    "    orders_table\n",
    "INNER JOIN dim_stores_details ON orders_table.store_code = dim_stores_details.store_code \n",
    "INNER JOIN dim_products ON orders_table.product_code = dim_products.product_code\n",
    "GROUP BY store_type\n",
    "ORDER BY total_sales DESC;"
   ]
  }
 ],
 "metadata": {
  "language_info": {
   "name": "python"
  }
 },
 "nbformat": 4,
 "nbformat_minor": 2
}
