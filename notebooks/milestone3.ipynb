{
 "cells": [
  {
   "cell_type": "code",
   "execution_count": null,
   "metadata": {},
   "outputs": [],
   "source": [
    "## Milestone 3: Create the star schema of the database, ensuring that the columns are of the correct data type."
   ]
  },
  {
   "cell_type": "markdown",
   "metadata": {},
   "source": [
    "1. Change the data types to correspond to those seen in the table below.\n",
    "\n",
    "    +------------------+--------------------+--------------------+\n",
    "    |   orders_table   | current data type  | required data type |\n",
    "    +------------------+--------------------+--------------------+\n",
    "    | date_uuid        | TEXT               | UUID               |\n",
    "    | user_uuid        | TEXT               | UUID               |\n",
    "    | card_number      | TEXT               | VARCHAR(?)         |\n",
    "    | store_code       | TEXT               | VARCHAR(?)         |\n",
    "    | product_code     | TEXT               | VARCHAR(?)         |\n",
    "    | product_quantity | BIGINT             | SMALLINT           |\n",
    "    +------------------+--------------------+--------------------+\n",
    "The ? in VARCHAR should be replaced with an integer representing the maximum length of the values in that column.\n",
    "\n",
    "https://www.commandprompt.com/education/how-to-alter-column-type-in-postgresql/#:~:text=Here%20is%20a%20simple%20syntax,after%20the%20ALTER%20COLUMN%20command."
   ]
  },
  {
   "cell_type": "code",
   "execution_count": null,
   "metadata": {
    "vscode": {
     "languageId": "sql"
    }
   },
   "outputs": [],
   "source": [
    "-- find longest value for card_number --> 19\n",
    "SELECT max(length(CAST(card_number AS VARCHAR))) FROM orders_table;\n",
    "\n",
    "SELECT max(length(CAST(store_code AS VARCHAR))) FROM orders_table; -- 12\n",
    "\n",
    "SELECT max(length(CAST(product_code AS VARCHAR))) FROM orders_table; -- 11\n",
    "\n",
    "-- To cast uuid you need to explicitly cast as uuid \n",
    "-- https://varunver.wordpress.com/2020/07/07/postgres-change-column-from-type-text-to-uuid/\n",
    "-- https://www.sqlservercentral.com/articles/the-cast-operator-in-postgresql"
   ]
  },
  {
   "cell_type": "code",
   "execution_count": null,
   "metadata": {
    "vscode": {
     "languageId": "sql"
    }
   },
   "outputs": [],
   "source": [
    "ALTER TABLE orders_table\n",
    "    ALTER COLUMN date_uuid TYPE UUID USING date_uuid::UUID,\n",
    "    ALTER COLUMN user_uuid TYPE UUID USING user_uuid::UUID,\n",
    "    ALTER COLUMN card_number TYPE VARCHAR(19),\n",
    "    ALTER COLUMN store_code TYPE VARCHAR(12),\n",
    "    ALTER COLUMN product_code TYPE VARCHAR(11),\n",
    "    ALTER COLUMN product_quantity TYPE SMALLINT;\n"
   ]
  },
  {
   "cell_type": "markdown",
   "metadata": {},
   "source": [
    "2. The column required to be changed in the users table are as follows:\n",
    "\n",
    "    +----------------+--------------------+--------------------+\n",
    "    | dim_user_table | current data type  | required data type |\n",
    "    +----------------+--------------------+--------------------+\n",
    "    | first_name     | TEXT               | VARCHAR(255)       |\n",
    "    | last_name      | TEXT               | VARCHAR(255)       |\n",
    "    | date_of_birth  | TEXT               | DATE               |\n",
    "    | country_code   | TEXT               | VARCHAR(?)         |\n",
    "    | user_uuid      | TEXT               | UUID               |\n",
    "    | join_date      | TEXT               | DATE               |\n",
    "    +----------------+--------------------+--------------------+"
   ]
  },
  {
   "cell_type": "code",
   "execution_count": null,
   "metadata": {
    "vscode": {
     "languageId": "sql"
    }
   },
   "outputs": [],
   "source": [
    "SELECT max(length(country_code::VARCHAR)) FROM dim_users; \n"
   ]
  },
  {
   "cell_type": "code",
   "execution_count": null,
   "metadata": {
    "vscode": {
     "languageId": "sql"
    }
   },
   "outputs": [],
   "source": [
    "ALTER TABLE dim_users\n",
    "    ALTER COLUMN first_name TYPE VARCHAR(255),\n",
    "    ALTER COLUMN last_name TYPE VARCHAR(255),\n",
    "    ALTER COLUMN date_of_birth TYPE DATE,\n",
    "    ALTER COLUMN country_code TYPE VARCHAR(2),\n",
    "    ALTER COLUMN user_uuid TYPE UUID USING user_uuid::UUID,\n",
    "    ALTER COLUMN join_date TYPE DATE;"
   ]
  },
  {
   "cell_type": "markdown",
   "metadata": {},
   "source": [
    "3. There are two latitude columns in the store details table. Using SQL, merge one of the columns into the other so you have one latitude column.\n",
    "--> do we need to resurrect the lat column? No. It is garbage. I am presuming this means to merge Latitude and Longitude. I've not cast either as floats anymore in Pandas so we can perform the concatenation here.\n",
    "\n",
    "Then set the data types for each column as shown below:\n",
    "\n",
    "    +---------------------+-------------------+------------------------+\n",
    "    | store_details_table | current data type |   required data type   |\n",
    "    +---------------------+-------------------+------------------------+\n",
    "    | longitude           | TEXT              | FLOAT                  |\n",
    "    | locality            | TEXT              | VARCHAR(255)           |\n",
    "    | store_code          | TEXT              | VARCHAR(?)             |\n",
    "    | staff_numbers       | TEXT              | SMALLINT               |\n",
    "    | opening_date        | TEXT              | DATE                   |\n",
    "    | store_type          | TEXT              | VARCHAR(255) NULLABLE  |\n",
    "    | latitude            | TEXT              | FLOAT                  |\n",
    "    | country_code        | TEXT              | VARCHAR(?)             |\n",
    "    | continent           | TEXT              | VARCHAR(255)           |\n",
    "    +---------------------+-------------------+------------------------+\n",
    "There is a row that represents the business's website change the location column values where they're null to N/A."
   ]
  },
  {
   "cell_type": "code",
   "execution_count": null,
   "metadata": {
    "vscode": {
     "languageId": "sql"
    }
   },
   "outputs": [],
   "source": [
    "SELECT max(length(store_code::VARCHAR)) FROM dim_stores_details; -- 12"
   ]
  },
  {
   "cell_type": "code",
   "execution_count": null,
   "metadata": {
    "vscode": {
     "languageId": "sql"
    }
   },
   "outputs": [],
   "source": [
    "ALTER TABLE dim_stores_details\n",
    "    ALTER COLUMN longitude TYPE FLOAT USING longitude::FLOAT,\n",
    "    ALTER COLUMN locality TYPE VARCHAR(255),\n",
    "    ALTER COLUMN store_code TYPE VARCHAR(12),\n",
    "    ALTER COLUMN staff_numbers TYPE SMALLINT,\n",
    "    ALTER COLUMN opening_date TYPE DATE USING opening_date::DATE,\n",
    "    ALTER COLUMN store_type TYPE VARCHAR(255),\n",
    "    ALTER COLUMN store_type DROP NOT NULL, -- i think this makes it nullable\n",
    "    ALTER COLUMN latitude TYPE FLOAT USING latitude::FLOAT,\n",
    "    ALTER COLUMN country_code TYPE VARCHAR(2),\n",
    "    ALTER COLUMN continent TYPE VARCHAR(255);"
   ]
  },
  {
   "cell_type": "code",
   "execution_count": null,
   "metadata": {
    "vscode": {
     "languageId": "sql"
    }
   },
   "outputs": [],
   "source": [
    "--There is a row that represents the business's website change the location column values where they're null to N/A.\n",
    "UPDATE \n",
    "    dim_stores_details\n",
    "SET \n",
    "    address = 'N/A', locality='N/A', country_code='N/A', --latitude='N/A', longitude='N/A'\n",
    "WHERE \n",
    "    store_code ILIKE 'WEB-1388012W';\n",
    "\n",
    "--There is a row that represents the business's website change the location column values where they're null to N/A.\n",
    "\n",
    " "
   ]
  },
  {
   "cell_type": "code",
   "execution_count": null,
   "metadata": {
    "vscode": {
     "languageId": "sql"
    }
   },
   "outputs": [],
   "source": [
    "--SELECT * FROM dim_stores_details ORDER BY level_0;"
   ]
  },
  {
   "cell_type": "markdown",
   "metadata": {},
   "source": [
    "4a. You will need to do some work on the products table before casting the data types correctly.\n",
    "\n",
    "The product_price column has a £ character which you need to remove using SQL. (I already did this so going to try to replace something else just for the craic)\n"
   ]
  },
  {
   "cell_type": "code",
   "execution_count": null,
   "metadata": {
    "vscode": {
     "languageId": "sql"
    }
   },
   "outputs": [],
   "source": [
    "-- UPDATE\n",
    "--     dim_products\n",
    "-- SET \n",
    "--     category = REPLACE(category, 'boys', 'toys');\n",
    "    "
   ]
  },
  {
   "cell_type": "markdown",
   "metadata": {},
   "source": [
    "4b. The team that handles the deliveries would like a new human-readable column added for the weight so they can quickly make decisions on delivery weights.\n",
    "Add a new column weight_class which will contain human-readable values based on the weight range of the product.\n",
    "\n",
    "    +--------------------------+-------------------+\n",
    "    | weight_class VARCHAR(?)  | weight range(kg)  |\n",
    "    +--------------------------+-------------------+\n",
    "    | Light                    | < 2               |\n",
    "    | Mid_Sized                | >= 2 - < 40       |\n",
    "    | Heavy                    | >= 40 - < 140     |\n",
    "    | Truck_Required           | => 140            |\n",
    "    +----------------------------+-----------------+"
   ]
  },
  {
   "cell_type": "code",
   "execution_count": null,
   "metadata": {
    "vscode": {
     "languageId": "sql"
    }
   },
   "outputs": [],
   "source": [
    "   \n",
    "ALTER TABLE \n",
    "    dim_products \n",
    "ADD \n",
    "    weight_class VARCHAR(14);\n",
    "\n",
    "\n",
    "UPDATE dim_products\n",
    "SET weight_class = \n",
    "    CASE\n",
    "            WHEN \n",
    "                weight < 2 THEN 'Light'\n",
    "            WHEN    \n",
    "                weight >= 2 AND weight < 40 THEN 'Mid_Sized'\n",
    "            WHEN    \n",
    "                weight >= 40 AND weight < 140 THEN 'Heavy'\n",
    "            WHEN \n",
    "                weight > 120 THEN 'Long'\n",
    "    END; \n"
   ]
  },
  {
   "cell_type": "code",
   "execution_count": null,
   "metadata": {
    "vscode": {
     "languageId": "sql"
    }
   },
   "outputs": [],
   "source": [
    "SELECT * FROM dim_products LIMIT 5;"
   ]
  },
  {
   "cell_type": "markdown",
   "metadata": {},
   "source": [
    "5. \n",
    "After all the columns are created and cleaned, change the data types of the products table.\n",
    "\n",
    "You will want to rename the removed column to still_available before changing its data type.\n"
   ]
  },
  {
   "cell_type": "code",
   "execution_count": null,
   "metadata": {
    "vscode": {
     "languageId": "sql"
    }
   },
   "outputs": [],
   "source": [
    "\n",
    "UPDATE\n",
    "    dim_products\n",
    "SET \n",
    "    removed = REPLACE(removed, 'Still_avaliable', 'True');\n",
    "\n",
    "UPDATE\n",
    "    dim_products\n",
    "SET \n",
    "    removed = REPLACE(removed, 'Removed', 'False');"
   ]
  },
  {
   "cell_type": "code",
   "execution_count": null,
   "metadata": {
    "vscode": {
     "languageId": "sql"
    }
   },
   "outputs": [],
   "source": [
    "-- after we do the replacing, we change the name\n",
    "ALTER TABLE dim_products\n",
    "RENAME COLUMN \"removed\" TO still_available;"
   ]
  },
  {
   "cell_type": "code",
   "execution_count": null,
   "metadata": {
    "vscode": {
     "languageId": "sql"
    }
   },
   "outputs": [],
   "source": [
    "SELECT removed FROM dim_products LIMIT 30;"
   ]
  },
  {
   "cell_type": "code",
   "execution_count": null,
   "metadata": {
    "vscode": {
     "languageId": "sql"
    }
   },
   "outputs": [],
   "source": [
    "SELECT max(length(\"EAN\"::VARCHAR)) FROM dim_products; --17\n",
    "SELECT max(length(product_code::VARCHAR)) FROM dim_products; --11\n",
    "SELECT max(length(weight_class::VARCHAR)) FROM dim_products; --9"
   ]
  },
  {
   "cell_type": "markdown",
   "metadata": {},
   "source": [
    "\n",
    "Make the changes to the columns to cast them to the following data types:\n",
    "\n",
    "    +-----------------+--------------------+--------------------+\n",
    "    |  dim_products   | current data type  | required data type |\n",
    "    +-----------------+--------------------+--------------------+\n",
    "    | product_price   | TEXT               | FLOAT              |\n",
    "    | weight          | TEXT               | FLOAT              |\n",
    "    | EAN             | TEXT               | VARCHAR(?)         |\n",
    "    | product_code    | TEXT               | VARCHAR(?)         |\n",
    "    | date_added      | TEXT               | DATE               |\n",
    "    | uuid            | TEXT               | UUID               |\n",
    "    | still_available | TEXT               | BOOL               |\n",
    "    | weight_class    | TEXT               | VARCHAR(?)         |\n",
    "    +-----------------+--------------------+--------------------+"
   ]
  },
  {
   "cell_type": "code",
   "execution_count": null,
   "metadata": {
    "vscode": {
     "languageId": "sql"
    }
   },
   "outputs": [],
   "source": [
    "ALTER TABLE dim_products\n",
    "    ALTER COLUMN product_price TYPE FLOAT, \n",
    "    ALTER COLUMN weight TYPE FLOAT,\n",
    "    ALTER COLUMN \"EAN\" TYPE VARCHAR(17),\n",
    "    ALTER COLUMN product_code TYPE VARCHAR(11),\n",
    "    ALTER COLUMN date_added TYPE DATE USING date_added::DATE,\n",
    "    ALTER COLUMN uuid TYPE UUID USING uuid::UUID,\n",
    "    ALTER COLUMN still_available TYPE BOOL USING still_available::BOOL, \n",
    "    ALTER COLUMN weight_class TYPE VARCHAR(9);\n",
    "    "
   ]
  },
  {
   "cell_type": "markdown",
   "metadata": {},
   "source": [
    "6. Now update the date table with the correct types:\n",
    "\n",
    "    +-----------------+-------------------+--------------------+\n",
    "    | dim_date_times  | current data type | required data type |\n",
    "    +-----------------+-------------------+--------------------+\n",
    "    | month           | TEXT              | VARCHAR(?)         |\n",
    "    | year            | TEXT              | VARCHAR(?)         |\n",
    "    | day             | TEXT              | VARCHAR(?)         |\n",
    "    | time_period     | TEXT              | VARCHAR(?)         |\n",
    "    | date_uuid       | TEXT              | UUID               |\n",
    "    +-----------------+-------------------+--------------------+\n",
    "\n",
    "I have already changed this to a unified date format, so I'm going to clean what I have:\n",
    "\n",
    "    +-----------------+-------------------+--------------------+\n",
    "    | dim_date_times  | current data type | required data type |\n",
    "    +-----------------+-------------------+--------------------+\n",
    "    | date_uuid       | TEXT              | UUID               |\n",
    "    +-----------------+-------------------+--------------------+\n",
    "\n",
    "I decided here to keep the Timestamp which my table has, as this can be used in the Milestone 4 task."
   ]
  },
  {
   "cell_type": "code",
   "execution_count": null,
   "metadata": {
    "vscode": {
     "languageId": "sql"
    }
   },
   "outputs": [],
   "source": [
    "ALTER TABLE dim_date_times\n",
    "    -- ALTER COLUMN date TYPE DATE USING date::DATE, -- I think I want to keep these are Timestamp values as this allows me to complete the final project\n",
    "    ALTER COLUMN date_uuid TYPE UUID USING date_uuid::UUID"
   ]
  },
  {
   "cell_type": "markdown",
   "metadata": {},
   "source": [
    "7. Now we need to update the last table for the card details.\n",
    "\n",
    "Make the associated changes after finding out what the lengths of each variable should be:\n",
    "\n",
    "    +------------------------+-------------------+--------------------+\n",
    "    |    dim_card_details    | current data type | required data type |\n",
    "    +------------------------+-------------------+--------------------+\n",
    "    | card_number            | TEXT              | VARCHAR(?)         |\n",
    "    | expiry_date            | TEXT              | VARCHAR(?)         |\n",
    "    | date_payment_confirmed | TEXT              | DATE               |\n",
    "    +------------------------+-------------------+--------------------+\n",
    "\n",
    "I've also changed this, so going to use expiry date as a date."
   ]
  },
  {
   "cell_type": "code",
   "execution_count": null,
   "metadata": {
    "vscode": {
     "languageId": "sql"
    }
   },
   "outputs": [],
   "source": [
    "SELECT max(length(card_number::VARCHAR)) FROM dim_card_details; -- 19\n",
    "SELECT max(length(expiry_date::VARCHAR)) FROM dim_card_details;"
   ]
  },
  {
   "cell_type": "code",
   "execution_count": null,
   "metadata": {
    "vscode": {
     "languageId": "sql"
    }
   },
   "outputs": [],
   "source": [
    "   ALTER TABLE dim_card_details\n",
    "      ALTER COLUMN card_number TYPE VARCHAR(19),\n",
    "      ALTER COLUMN expiry_date TYPE DATE USING expiry_date::DATE,\n",
    "      ALTER COLUMN date_payment_confirmed TYPE DATE USING date_payment_confirmed::DATE"
   ]
  },
  {
   "cell_type": "markdown",
   "metadata": {},
   "source": [
    "8. Now that the tables have the appropriate data types we can begin adding the primary keys to each of the tables prefixed with dim.\n",
    "\n",
    "Each table will serve the orders_table which will be the single source of truth for our orders.\n",
    "\n",
    "Check the column header of the orders_table you will see all but one of the columns exist in one of our tables prefixed with dim.\n",
    "\n",
    "We need to update the columns in the dim tables with a primary key that matches the same column in the orders_table.\n",
    "\n",
    "Using SQL, update the respective columns as primary key columns.\n",
    "\n",
    "    **Orders table:**           **Other table:**\n",
    "    date_uuid               dim_date_times\n",
    "    user_uuid               dim_users\n",
    "    card_number             dim_card_details \n",
    "    store_code              dim_stores_details\n",
    "    product_code            dim_products\n",
    "    product_quantity        --doesn't appear\n",
    "\n",
    "So we need to change these columns as primary keys in their respective tables"
   ]
  },
  {
   "cell_type": "code",
   "execution_count": null,
   "metadata": {
    "vscode": {
     "languageId": "sql"
    }
   },
   "outputs": [],
   "source": [
    "ALTER TABLE dim_date_times ADD PRIMARY KEY (date_uuid);\n",
    "ALTER TABLE dim_users ADD PRIMARY KEY (user_uuid);\n",
    "ALTER TABLE dim_card_details ADD PRIMARY KEY (card_number);\n",
    "ALTER TABLE dim_stores_details ADD PRIMARY KEY (store_code);\n",
    "ALTER TABLE dim_products ADD PRIMARY KEY (product_code);\n"
   ]
  },
  {
   "cell_type": "markdown",
   "metadata": {},
   "source": [
    "9. With the primary keys created in the tables prefixed with dim we can now create the foreign keys in the orders_table to reference the primary keys in the other tables.\n",
    "\n",
    "Use SQL to create those foreign key constraints that reference the primary keys of the other table.\n",
    "\n",
    "This makes the star-based database schema complete."
   ]
  },
  {
   "cell_type": "code",
   "execution_count": null,
   "metadata": {
    "vscode": {
     "languageId": "sql"
    }
   },
   "outputs": [],
   "source": [
    "ALTER TABLE orders_table\n",
    "    ADD CONSTRAINT fk_orders_table_dim_date_times\n",
    "    FOREIGN KEY (date_uuid) \n",
    "    REFERENCES dim_date_times(date_uuid);\n",
    "\n",
    "ALTER TABLE orders_table\n",
    "    ADD CONSTRAINT fk_orders_table_dim_users\n",
    "    FOREIGN KEY (user_uuid) \n",
    "    REFERENCES dim_users(user_uuid);\n",
    "\n",
    "ALTER TABLE orders_table\n",
    "    ADD CONSTRAINT fk_orders_table_dim_card_details\n",
    "    FOREIGN KEY (card_number) \n",
    "    REFERENCES dim_card_details(card_number);\n",
    "\n",
    "ALTER TABLE orders_table\n",
    "    ADD CONSTRAINT fk_orders_table_dim_stores_details\n",
    "    FOREIGN KEY (store_code)\n",
    "    REFERENCES dim_stores_details(store_code);\n",
    "\n",
    "ALTER TABLE orders_table\n",
    "    ADD CONSTRAINT fk_orders_table_dim_products\n",
    "    FOREIGN KEY (product_code)\n",
    "    REFERENCES dim_products(product_code);\n",
    "\n",
    "    -- I haven't put any further constraints in here yet.\n",
    "    "
   ]
  }
 ],
 "metadata": {
  "language_info": {
   "name": "python"
  }
 },
 "nbformat": 4,
 "nbformat_minor": 2
}
