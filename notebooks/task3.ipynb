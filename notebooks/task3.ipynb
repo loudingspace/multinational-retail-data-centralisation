{
 "cells": [
  {
   "cell_type": "code",
   "execution_count": 1,
   "metadata": {},
   "outputs": [
    {
     "name": "stdout",
     "output_type": "stream",
     "text": [
      "Cleaning mode begun: \n",
      "1-- Checking for null or na values\n",
      "index            0\n",
      "first_name       0\n",
      "last_name        0\n",
      "date_of_birth    0\n",
      "company          0\n",
      "email_address    0\n",
      "address          0\n",
      "country          0\n",
      "country_code     0\n",
      "phone_number     0\n",
      "join_date        0\n",
      "user_uuid        0\n",
      "dtype: int64\n"
     ]
    },
    {
     "ename": "TypeError",
     "evalue": "'>' not supported between instances of 'str' and 'int'",
     "output_type": "error",
     "traceback": [
      "\u001b[0;31m---------------------------------------------------------------------------\u001b[0m",
      "\u001b[0;31mTypeError\u001b[0m                                 Traceback (most recent call last)",
      "\u001b[1;32m/Users/colin/Library/CloudStorage/Dropbox/aicore/projects/multinational/notebooks/task3.ipynb Cell 1\u001b[0m line \u001b[0;36m4\n\u001b[1;32m      <a href='vscode-notebook-cell:/Users/colin/Library/CloudStorage/Dropbox/aicore/projects/multinational/notebooks/task3.ipynb#W0sZmlsZQ%3D%3D?line=1'>2</a>\u001b[0m sys\u001b[39m.\u001b[39mpath\u001b[39m.\u001b[39mappend(\u001b[39m'\u001b[39m\u001b[39m../classes/\u001b[39m\u001b[39m'\u001b[39m)\n\u001b[1;32m      <a href='vscode-notebook-cell:/Users/colin/Library/CloudStorage/Dropbox/aicore/projects/multinational/notebooks/task3.ipynb#W0sZmlsZQ%3D%3D?line=2'>3</a>\u001b[0m \u001b[39mfrom\u001b[39;00m \u001b[39mdata_cleaning\u001b[39;00m \u001b[39mimport\u001b[39;00m DataCleaning\n\u001b[0;32m----> <a href='vscode-notebook-cell:/Users/colin/Library/CloudStorage/Dropbox/aicore/projects/multinational/notebooks/task3.ipynb#W0sZmlsZQ%3D%3D?line=3'>4</a>\u001b[0m \u001b[39mfrom\u001b[39;00m \u001b[39mdata_extraction\u001b[39;00m \u001b[39mimport\u001b[39;00m DataExtraction\n\u001b[1;32m      <a href='vscode-notebook-cell:/Users/colin/Library/CloudStorage/Dropbox/aicore/projects/multinational/notebooks/task3.ipynb#W0sZmlsZQ%3D%3D?line=4'>5</a>\u001b[0m \u001b[39mfrom\u001b[39;00m \u001b[39mdatabase_utils\u001b[39;00m \u001b[39mimport\u001b[39;00m DatabaseConnector\n\u001b[1;32m      <a href='vscode-notebook-cell:/Users/colin/Library/CloudStorage/Dropbox/aicore/projects/multinational/notebooks/task3.ipynb#W0sZmlsZQ%3D%3D?line=7'>8</a>\u001b[0m dc \u001b[39m=\u001b[39m DatabaseConnector()\n",
      "File \u001b[0;32m~/Library/CloudStorage/Dropbox/aicore/projects/multinational/notebooks/../classes/data_extraction.py:61\u001b[0m\n\u001b[1;32m     59\u001b[0m df \u001b[39m=\u001b[39m de\u001b[39m.\u001b[39mread_rds_table(dc\u001b[39m.\u001b[39minit_db_engine(), table_list[\u001b[39m1\u001b[39m])\n\u001b[1;32m     60\u001b[0m \u001b[39m# print(df.head(10))\u001b[39;00m\n\u001b[0;32m---> 61\u001b[0m clean\u001b[39m.\u001b[39;49mclean_user_data(df)\n",
      "File \u001b[0;32m~/Library/CloudStorage/Dropbox/aicore/projects/multinational/notebooks/../classes/data_cleaning.py:31\u001b[0m, in \u001b[0;36mDataCleaning.clean_user_data\u001b[0;34m(self, df)\u001b[0m\n\u001b[1;32m     27\u001b[0m \u001b[39mprint\u001b[39m(df\u001b[39m.\u001b[39misna()\u001b[39m.\u001b[39msum())\n\u001b[1;32m     29\u001b[0m \u001b[39m# check for dates\u001b[39;00m\n\u001b[1;32m     30\u001b[0m \u001b[39m# date_of_birth, join_date\u001b[39;00m\n\u001b[0;32m---> 31\u001b[0m \u001b[39mprint\u001b[39m(df\u001b[39m.\u001b[39mdate_of_birth[\u001b[39mlen\u001b[39m(df\u001b[39m.\u001b[39;49mdate_of_birth \u001b[39m>\u001b[39;49m \u001b[39m10\u001b[39;49m)])\n\u001b[1;32m     32\u001b[0m \u001b[39m# df.date_of_birth[~df.date_of_birth.str.contains(\u001b[39;00m\n\u001b[1;32m     33\u001b[0m \u001b[39m#     '(\\d{4})[-](\\d{2})[-](\\d{2})')].sum()\u001b[39;00m\n\u001b[1;32m     34\u001b[0m \u001b[39m# print('DateOfBirth\\n', df.date_of_birth)\u001b[39;00m\n\u001b[0;32m   (...)\u001b[0m\n\u001b[1;32m     43\u001b[0m \n\u001b[1;32m     44\u001b[0m \u001b[39m# check for incorrect types\u001b[39;00m\n\u001b[1;32m     45\u001b[0m \u001b[39mprint\u001b[39m(\u001b[39m'\u001b[39m\u001b[39m3 checking for data types\u001b[39m\u001b[39m'\u001b[39m)\n",
      "File \u001b[0;32m~/miniconda/lib/python3.11/site-packages/pandas/core/ops/common.py:76\u001b[0m, in \u001b[0;36m_unpack_zerodim_and_defer.<locals>.new_method\u001b[0;34m(self, other)\u001b[0m\n\u001b[1;32m     72\u001b[0m             \u001b[39mreturn\u001b[39;00m \u001b[39mNotImplemented\u001b[39m\n\u001b[1;32m     74\u001b[0m other \u001b[39m=\u001b[39m item_from_zerodim(other)\n\u001b[0;32m---> 76\u001b[0m \u001b[39mreturn\u001b[39;00m method(\u001b[39mself\u001b[39;49m, other)\n",
      "File \u001b[0;32m~/miniconda/lib/python3.11/site-packages/pandas/core/arraylike.py:56\u001b[0m, in \u001b[0;36mOpsMixin.__gt__\u001b[0;34m(self, other)\u001b[0m\n\u001b[1;32m     54\u001b[0m \u001b[39m@unpack_zerodim_and_defer\u001b[39m(\u001b[39m\"\u001b[39m\u001b[39m__gt__\u001b[39m\u001b[39m\"\u001b[39m)\n\u001b[1;32m     55\u001b[0m \u001b[39mdef\u001b[39;00m \u001b[39m__gt__\u001b[39m(\u001b[39mself\u001b[39m, other):\n\u001b[0;32m---> 56\u001b[0m     \u001b[39mreturn\u001b[39;00m \u001b[39mself\u001b[39;49m\u001b[39m.\u001b[39;49m_cmp_method(other, operator\u001b[39m.\u001b[39;49mgt)\n",
      "File \u001b[0;32m~/miniconda/lib/python3.11/site-packages/pandas/core/series.py:5799\u001b[0m, in \u001b[0;36mSeries._cmp_method\u001b[0;34m(self, other, op)\u001b[0m\n\u001b[1;32m   5796\u001b[0m lvalues \u001b[39m=\u001b[39m \u001b[39mself\u001b[39m\u001b[39m.\u001b[39m_values\n\u001b[1;32m   5797\u001b[0m rvalues \u001b[39m=\u001b[39m extract_array(other, extract_numpy\u001b[39m=\u001b[39m\u001b[39mTrue\u001b[39;00m, extract_range\u001b[39m=\u001b[39m\u001b[39mTrue\u001b[39;00m)\n\u001b[0;32m-> 5799\u001b[0m res_values \u001b[39m=\u001b[39m ops\u001b[39m.\u001b[39;49mcomparison_op(lvalues, rvalues, op)\n\u001b[1;32m   5801\u001b[0m \u001b[39mreturn\u001b[39;00m \u001b[39mself\u001b[39m\u001b[39m.\u001b[39m_construct_result(res_values, name\u001b[39m=\u001b[39mres_name)\n",
      "File \u001b[0;32m~/miniconda/lib/python3.11/site-packages/pandas/core/ops/array_ops.py:346\u001b[0m, in \u001b[0;36mcomparison_op\u001b[0;34m(left, right, op)\u001b[0m\n\u001b[1;32m    343\u001b[0m     \u001b[39mreturn\u001b[39;00m invalid_comparison(lvalues, rvalues, op)\n\u001b[1;32m    345\u001b[0m \u001b[39melif\u001b[39;00m lvalues\u001b[39m.\u001b[39mdtype \u001b[39m==\u001b[39m \u001b[39mobject\u001b[39m \u001b[39mor\u001b[39;00m \u001b[39misinstance\u001b[39m(rvalues, \u001b[39mstr\u001b[39m):\n\u001b[0;32m--> 346\u001b[0m     res_values \u001b[39m=\u001b[39m comp_method_OBJECT_ARRAY(op, lvalues, rvalues)\n\u001b[1;32m    348\u001b[0m \u001b[39melse\u001b[39;00m:\n\u001b[1;32m    349\u001b[0m     res_values \u001b[39m=\u001b[39m _na_arithmetic_op(lvalues, rvalues, op, is_cmp\u001b[39m=\u001b[39m\u001b[39mTrue\u001b[39;00m)\n",
      "File \u001b[0;32m~/miniconda/lib/python3.11/site-packages/pandas/core/ops/array_ops.py:131\u001b[0m, in \u001b[0;36mcomp_method_OBJECT_ARRAY\u001b[0;34m(op, x, y)\u001b[0m\n\u001b[1;32m    129\u001b[0m     result \u001b[39m=\u001b[39m libops\u001b[39m.\u001b[39mvec_compare(x\u001b[39m.\u001b[39mravel(), y\u001b[39m.\u001b[39mravel(), op)\n\u001b[1;32m    130\u001b[0m \u001b[39melse\u001b[39;00m:\n\u001b[0;32m--> 131\u001b[0m     result \u001b[39m=\u001b[39m libops\u001b[39m.\u001b[39;49mscalar_compare(x\u001b[39m.\u001b[39;49mravel(), y, op)\n\u001b[1;32m    132\u001b[0m \u001b[39mreturn\u001b[39;00m result\u001b[39m.\u001b[39mreshape(x\u001b[39m.\u001b[39mshape)\n",
      "File \u001b[0;32mops.pyx:107\u001b[0m, in \u001b[0;36mpandas._libs.ops.scalar_compare\u001b[0;34m()\u001b[0m\n",
      "\u001b[0;31mTypeError\u001b[0m: '>' not supported between instances of 'str' and 'int'"
     ]
    }
   ],
   "source": [
    "import sys\n",
    "sys.path.append('../classes/')\n",
    "from data_cleaning import DataCleaning\n",
    "from data_extraction import DataExtraction\n",
    "from database_utils import DatabaseConnector\n",
    "\n",
    "\n",
    "dc = DatabaseConnector()\n",
    "de = DataExtraction()\n",
    "clean = DataCleaning()\n",
    "\n",
    "# Use your list_db_tables method to get the name of the table containing user data.\n",
    "table_list = dc.list_db_tables()\n",
    "\n",
    "# Use the read_rds_table method to extract the table containing user data and return a pandas DataFrame.\n",
    "df = de.read_rds_table(dc.init_db_engine(), table_list[1])\n",
    "# print(df.head(10))\n",
    "clean.clean_user_data(df)\n"
   ]
  }
 ],
 "metadata": {
  "kernelspec": {
   "display_name": "Python 3",
   "language": "python",
   "name": "python3"
  },
  "language_info": {
   "codemirror_mode": {
    "name": "ipython",
    "version": 3
   },
   "file_extension": ".py",
   "mimetype": "text/x-python",
   "name": "python",
   "nbconvert_exporter": "python",
   "pygments_lexer": "ipython3",
   "version": "3.11.4"
  }
 },
 "nbformat": 4,
 "nbformat_minor": 2
}
